{
 "cells": [
  {
   "cell_type": "code",
   "execution_count": 1,
   "metadata": {},
   "outputs": [
    {
     "name": "stdout",
     "output_type": "stream",
     "text": [
      "WARNING:tensorflow:From c:\\Python 3.10\\lib\\site-packages\\keras\\src\\losses.py:2976: The name tf.losses.sparse_softmax_cross_entropy is deprecated. Please use tf.compat.v1.losses.sparse_softmax_cross_entropy instead.\n",
      "\n"
     ]
    }
   ],
   "source": [
    "import tensorflow as tf"
   ]
  },
  {
   "cell_type": "code",
   "execution_count": 2,
   "metadata": {},
   "outputs": [
    {
     "name": "stdout",
     "output_type": "stream",
     "text": [
      "the shape before expanding : (3, 2, 3)\n",
      " the shape after extending the dimensions : (1, 3, 2, 3)\n"
     ]
    }
   ],
   "source": [
    "#to add extra axis to your tensor that will have the length of one\n",
    "tensor_3d=tf.constant([\n",
    "    [\n",
    "        [1,2,0],\n",
    "        [3,5,-1]\n",
    "    ],\n",
    "    [\n",
    "        [10,2,0],\n",
    "        [1,0,2]\n",
    "    ],\n",
    "    [\n",
    "        [2,1,9],\n",
    "        [4,3,32]\n",
    "    ]\n",
    "])\n",
    "\n",
    "print(f\"the shape before expanding : {tensor_3d.shape}\")\n",
    "#adding extra axis to the tensor\n",
    "print(f\" the shape after extending the dimensions : {tf.expand_dims(tensor_3d,axis=0).shape}\")\n"
   ]
  },
  {
   "cell_type": "code",
   "execution_count": 3,
   "metadata": {},
   "outputs": [
    {
     "name": "stdout",
     "output_type": "stream",
     "text": [
      "the shape after shriking the tensor is : \n",
      " \n"
     ]
    },
    {
     "data": {
      "text/plain": [
       "<tf.Tensor: shape=(3, 2, 3), dtype=int32, numpy=\n",
       "array([[[ 1,  2,  0],\n",
       "        [ 3,  5, -1]],\n",
       "\n",
       "       [[10,  2,  0],\n",
       "        [ 1,  0,  2]],\n",
       "\n",
       "       [[ 2,  1,  9],\n",
       "        [ 4,  3, 32]]])>"
      ]
     },
     "execution_count": 3,
     "metadata": {},
     "output_type": "execute_result"
    }
   ],
   "source": [
    "#to compress the dimension of the tensor i.e opposite to the tf.expand_dims\n",
    "tensor_3d=tf.constant([\n",
    "    [\n",
    "        [1,2,0],\n",
    "        [3,5,-1]\n",
    "    ],\n",
    "    [\n",
    "        [10,2,0],\n",
    "        [1,0,2]\n",
    "    ],\n",
    "    [\n",
    "        [2,1,9],\n",
    "        [4,3,32]\n",
    "    ]\n",
    "])\n",
    "\n",
    "print(f\"the shape after shriking the tensor is : \\n \")\n",
    "tf.squeeze(tensor_3d)\n",
    "\n",
    "#3:00:30 "
   ]
  },
  {
   "cell_type": "code",
   "execution_count": 7,
   "metadata": {},
   "outputs": [
    {
     "name": "stdout",
     "output_type": "stream",
     "text": [
      "the shape of the tensor before reshaping is (4, 2, 3)\n",
      "the shape of the tensor after reshaping is [[ 1  2  0  3]\n",
      " [ 5 -1 10  2]\n",
      " [ 0  1  0  2]\n",
      " [ 2  1  9  4]\n",
      " [ 3 32  2  1]\n",
      " [ 9  4  3 32]]\n"
     ]
    }
   ],
   "source": [
    "#reshaping the tensor\n",
    "\n",
    "tensor_3d=tf.constant([\n",
    "    [\n",
    "        [1,2,0],\n",
    "        [3,5,-1]\n",
    "    ],\n",
    "    [\n",
    "        [10,2,0],\n",
    "        [1,0,2]\n",
    "    ],\n",
    "    [\n",
    "        [2,1,9],\n",
    "        [4,3,32]\n",
    "    ],\n",
    "        [\n",
    "        [2,1,9],\n",
    "        [4,3,32]\n",
    "    ]\n",
    "])\n",
    "print(f\"the shape of the tensor before reshaping is {tensor_3d.shape}\")\n",
    "\n",
    "print(f\"the shape of the tensor after reshaping is {tf.reshape(tensor_3d,[6,4])}\")"
   ]
  },
  {
   "cell_type": "code",
   "execution_count": 11,
   "metadata": {},
   "outputs": [
    {
     "data": {
      "text/plain": [
       "<tf.Tensor: shape=(4, 3), dtype=int32, numpy=\n",
       "array([[ 1,  2,  3],\n",
       "       [ 4,  5,  6],\n",
       "       [ 7,  8,  9],\n",
       "       [10, 11, 12]])>"
      ]
     },
     "execution_count": 11,
     "metadata": {},
     "output_type": "execute_result"
    }
   ],
   "source": [
    "#tf.concat is use to concat tensor in 1d \n",
    "t1=tf.constant([[1,2,3],[4,5,6]])\n",
    "t2=tf.constant([[7,8,9],[10,11,12]])\n",
    "tf.concat([t1,t2],0)"
   ]
  },
  {
   "cell_type": "code",
   "execution_count": null,
   "metadata": {},
   "outputs": [],
   "source": [
    "#3:12:29"
   ]
  }
 ],
 "metadata": {
  "kernelspec": {
   "display_name": "Python 3",
   "language": "python",
   "name": "python3"
  },
  "language_info": {
   "codemirror_mode": {
    "name": "ipython",
    "version": 3
   },
   "file_extension": ".py",
   "mimetype": "text/x-python",
   "name": "python",
   "nbconvert_exporter": "python",
   "pygments_lexer": "ipython3",
   "version": "3.10.6"
  }
 },
 "nbformat": 4,
 "nbformat_minor": 2
}
