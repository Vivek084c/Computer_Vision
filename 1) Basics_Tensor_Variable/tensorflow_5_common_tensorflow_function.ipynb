{
 "cells": [
  {
   "cell_type": "code",
   "execution_count": 1,
   "metadata": {},
   "outputs": [
    {
     "name": "stdout",
     "output_type": "stream",
     "text": [
      "WARNING:tensorflow:From c:\\Python 3.10\\lib\\site-packages\\keras\\src\\losses.py:2976: The name tf.losses.sparse_softmax_cross_entropy is deprecated. Please use tf.compat.v1.losses.sparse_softmax_cross_entropy instead.\n",
      "\n"
     ]
    }
   ],
   "source": [
    "import tensorflow as tf"
   ]
  },
  {
   "cell_type": "code",
   "execution_count": 9,
   "metadata": {},
   "outputs": [
    {
     "name": "stdout",
     "output_type": "stream",
     "text": [
      "the shape before expanding : (3, 2, 3)\n",
      " the shape after extending the dimensions : (1, 3, 2, 3)\n"
     ]
    }
   ],
   "source": [
    "#to add extra axis to your tensor that will have the length of one\n",
    "tensor_3d=tf.constant([\n",
    "    [\n",
    "        [1,2,0],\n",
    "        [3,5,-1]\n",
    "    ],\n",
    "    [\n",
    "        [10,2,0],\n",
    "        [1,0,2]\n",
    "    ],\n",
    "    [\n",
    "        [2,1,9],\n",
    "        [4,3,32]\n",
    "    ]\n",
    "])\n",
    "\n",
    "print(f\"the shape before expanding : {tensor_3d.shape}\")\n",
    "#adding extra axis to the tensor\n",
    "print(f\" the shape after extending the dimensions : {tf.expand_dims(tensor_3d,axis=0).shape}\")\n"
   ]
  },
  {
   "cell_type": "code",
   "execution_count": 1,
   "metadata": {},
   "outputs": [
    {
     "ename": "NameError",
     "evalue": "name 'tf' is not defined",
     "output_type": "error",
     "traceback": [
      "\u001b[1;31m---------------------------------------------------------------------------\u001b[0m",
      "\u001b[1;31mNameError\u001b[0m                                 Traceback (most recent call last)",
      "Cell \u001b[1;32mIn[1], line 2\u001b[0m\n\u001b[0;32m      1\u001b[0m \u001b[38;5;66;03m#to compress the dimension of the tensor i.e opposite to the tf.expand_dims\u001b[39;00m\n\u001b[1;32m----> 2\u001b[0m tensor_3d\u001b[38;5;241m=\u001b[39m\u001b[43mtf\u001b[49m\u001b[38;5;241m.\u001b[39mconstant([\n\u001b[0;32m      3\u001b[0m     [\n\u001b[0;32m      4\u001b[0m         [\u001b[38;5;241m1\u001b[39m,\u001b[38;5;241m2\u001b[39m,\u001b[38;5;241m0\u001b[39m],\n\u001b[0;32m      5\u001b[0m         [\u001b[38;5;241m3\u001b[39m,\u001b[38;5;241m5\u001b[39m,\u001b[38;5;241m-\u001b[39m\u001b[38;5;241m1\u001b[39m]\n\u001b[0;32m      6\u001b[0m     ],\n\u001b[0;32m      7\u001b[0m     [\n\u001b[0;32m      8\u001b[0m         [\u001b[38;5;241m10\u001b[39m,\u001b[38;5;241m2\u001b[39m,\u001b[38;5;241m0\u001b[39m],\n\u001b[0;32m      9\u001b[0m         [\u001b[38;5;241m1\u001b[39m,\u001b[38;5;241m0\u001b[39m,\u001b[38;5;241m2\u001b[39m]\n\u001b[0;32m     10\u001b[0m     ],\n\u001b[0;32m     11\u001b[0m     [\n\u001b[0;32m     12\u001b[0m         [\u001b[38;5;241m2\u001b[39m,\u001b[38;5;241m1\u001b[39m,\u001b[38;5;241m9\u001b[39m],\n\u001b[0;32m     13\u001b[0m         [\u001b[38;5;241m4\u001b[39m,\u001b[38;5;241m3\u001b[39m,\u001b[38;5;241m32\u001b[39m]\n\u001b[0;32m     14\u001b[0m     ]\n\u001b[0;32m     15\u001b[0m ])\n\u001b[0;32m     17\u001b[0m \u001b[38;5;28mprint\u001b[39m(\u001b[38;5;124mf\u001b[39m\u001b[38;5;124m\"\u001b[39m\u001b[38;5;124mthe shape after shriking the tensor is : \u001b[39m\u001b[38;5;130;01m\\n\u001b[39;00m\u001b[38;5;124m \u001b[39m\u001b[38;5;124m\"\u001b[39m)\n\u001b[0;32m     18\u001b[0m tf\u001b[38;5;241m.\u001b[39msqueeze(tensor_3d)\n",
      "\u001b[1;31mNameError\u001b[0m: name 'tf' is not defined"
     ]
    }
   ],
   "source": [
    "#to compress the dimension of the tensor i.e opposite to the tf.expand_dims\n",
    "tensor_3d=tf.constant([\n",
    "    [\n",
    "        [1,2,0],\n",
    "        [3,5,-1]\n",
    "    ],\n",
    "    [\n",
    "        [10,2,0],\n",
    "        [1,0,2]\n",
    "    ],\n",
    "    [\n",
    "        [2,1,9],\n",
    "        [4,3,32]\n",
    "    ]\n",
    "])\n",
    "\n",
    "print(f\"the shape after shriking the tensor is : \\n \")\n",
    "tf.squeeze(tensor_3d)\n",
    "\n",
    "#3:00:30 "
   ]
  },
  {
   "cell_type": "code",
   "execution_count": null,
   "metadata": {},
   "outputs": [],
   "source": []
  }
 ],
 "metadata": {
  "kernelspec": {
   "display_name": "Python 3",
   "language": "python",
   "name": "python3"
  },
  "language_info": {
   "codemirror_mode": {
    "name": "ipython",
    "version": 3
   },
   "file_extension": ".py",
   "mimetype": "text/x-python",
   "name": "python",
   "nbconvert_exporter": "python",
   "pygments_lexer": "ipython3",
   "version": "3.10.6"
  }
 },
 "nbformat": 4,
 "nbformat_minor": 2
}
