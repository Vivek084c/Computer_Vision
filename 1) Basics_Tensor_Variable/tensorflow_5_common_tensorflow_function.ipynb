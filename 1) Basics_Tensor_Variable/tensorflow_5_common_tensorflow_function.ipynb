{
 "cells": [
  {
   "cell_type": "code",
   "execution_count": 1,
   "metadata": {},
   "outputs": [
    {
     "name": "stdout",
     "output_type": "stream",
     "text": [
      "WARNING:tensorflow:From c:\\Python 3.10\\lib\\site-packages\\keras\\src\\losses.py:2976: The name tf.losses.sparse_softmax_cross_entropy is deprecated. Please use tf.compat.v1.losses.sparse_softmax_cross_entropy instead.\n",
      "\n"
     ]
    }
   ],
   "source": [
    "import tensorflow as tf"
   ]
  },
  {
   "cell_type": "code",
   "execution_count": 2,
   "metadata": {},
   "outputs": [
    {
     "name": "stdout",
     "output_type": "stream",
     "text": [
      "the shape before expanding : (3, 2, 3)\n",
      " the shape after extending the dimensions : (1, 3, 2, 3)\n"
     ]
    }
   ],
   "source": [
    "#to add extra axis to your tensor that will have the length of one\n",
    "tensor_3d=tf.constant([\n",
    "    [\n",
    "        [1,2,0],\n",
    "        [3,5,-1]\n",
    "    ],\n",
    "    [\n",
    "        [10,2,0],\n",
    "        [1,0,2]\n",
    "    ],\n",
    "    [\n",
    "        [2,1,9],\n",
    "        [4,3,32]\n",
    "    ]\n",
    "])\n",
    "\n",
    "print(f\"the shape before expanding : {tensor_3d.shape}\")\n",
    "#adding extra axis to the tensor\n",
    "print(f\" the shape after extending the dimensions : {tf.expand_dims(tensor_3d,axis=0).shape}\")\n"
   ]
  },
  {
   "cell_type": "code",
   "execution_count": 3,
   "metadata": {},
   "outputs": [
    {
     "name": "stdout",
     "output_type": "stream",
     "text": [
      "the shape after shriking the tensor is : \n",
      " \n"
     ]
    },
    {
     "data": {
      "text/plain": [
       "<tf.Tensor: shape=(3, 2, 3), dtype=int32, numpy=\n",
       "array([[[ 1,  2,  0],\n",
       "        [ 3,  5, -1]],\n",
       "\n",
       "       [[10,  2,  0],\n",
       "        [ 1,  0,  2]],\n",
       "\n",
       "       [[ 2,  1,  9],\n",
       "        [ 4,  3, 32]]])>"
      ]
     },
     "execution_count": 3,
     "metadata": {},
     "output_type": "execute_result"
    }
   ],
   "source": [
    "#to compress the dimension of the tensor i.e opposite to the tf.expand_dims\n",
    "tensor_3d=tf.constant([\n",
    "    [\n",
    "        [1,2,0],\n",
    "        [3,5,-1]\n",
    "    ],\n",
    "    [\n",
    "        [10,2,0],\n",
    "        [1,0,2]\n",
    "    ],\n",
    "    [\n",
    "        [2,1,9],\n",
    "        [4,3,32]\n",
    "    ]\n",
    "])\n",
    "\n",
    "print(f\"the shape after shriking the tensor is : \\n \")\n",
    "tf.squeeze(tensor_3d)\n",
    "\n",
    "#3:00:30 "
   ]
  },
  {
   "cell_type": "code",
   "execution_count": 4,
   "metadata": {},
   "outputs": [
    {
     "name": "stdout",
     "output_type": "stream",
     "text": [
      "the shape of the tensor before reshaping is (4, 2, 3)\n",
      "the shape of the tensor after reshaping is [[ 1  2  0  3]\n",
      " [ 5 -1 10  2]\n",
      " [ 0  1  0  2]\n",
      " [ 2  1  9  4]\n",
      " [ 3 32  2  1]\n",
      " [ 9  4  3 32]]\n"
     ]
    }
   ],
   "source": [
    "#reshaping the tensor\n",
    "\n",
    "tensor_3d=tf.constant([\n",
    "    [\n",
    "        [1,2,0],\n",
    "        [3,5,-1]\n",
    "    ],\n",
    "    [\n",
    "        [10,2,0],\n",
    "        [1,0,2]\n",
    "    ],\n",
    "    [\n",
    "        [2,1,9],\n",
    "        [4,3,32]\n",
    "    ],\n",
    "        [\n",
    "        [2,1,9],\n",
    "        [4,3,32]\n",
    "    ]\n",
    "])\n",
    "print(f\"the shape of the tensor before reshaping is {tensor_3d.shape}\")\n",
    "\n",
    "print(f\"the shape of the tensor after reshaping is {tf.reshape(tensor_3d,[6,4])}\")"
   ]
  },
  {
   "cell_type": "code",
   "execution_count": 5,
   "metadata": {},
   "outputs": [
    {
     "data": {
      "text/plain": [
       "<tf.Tensor: shape=(4, 3), dtype=int32, numpy=\n",
       "array([[ 1,  2,  3],\n",
       "       [ 4,  5,  6],\n",
       "       [ 7,  8,  9],\n",
       "       [10, 11, 12]])>"
      ]
     },
     "execution_count": 5,
     "metadata": {},
     "output_type": "execute_result"
    }
   ],
   "source": [
    "#tf.concat is use to concat tensor in 1d \n",
    "t1=tf.constant([[1,2,3],[4,5,6]])\n",
    "t2=tf.constant([[7,8,9],[10,11,12]])\n",
    "tf.concat([t1,t2],0)"
   ]
  },
  {
   "cell_type": "code",
   "execution_count": 17,
   "metadata": {},
   "outputs": [
    {
     "name": "stdout",
     "output_type": "stream",
     "text": [
      "the shape of above tensor is (3, 3)\n",
      "the invese tensor for above is [[ 0.7413249  -0.01892742  0.3154574 ]\n",
      " [-0.12933755 -0.00946371  0.1577287 ]\n",
      " [-0.01577287  0.01104101 -0.01735016]]\n"
     ]
    },
    {
     "data": {
      "text/plain": [
       "<tf.Tensor: shape=(3, 3), dtype=float32, numpy=\n",
       "array([[ 1.0000000e+00,  1.7881393e-07,  2.8610229e-06],\n",
       "       [ 1.4901161e-08,  1.0000000e+00,  1.0728836e-06],\n",
       "       [ 0.0000000e+00, -3.7252903e-09,  9.9999988e-01]], dtype=float32)>"
      ]
     },
     "execution_count": 17,
     "metadata": {},
     "output_type": "execute_result"
    }
   ],
   "source": [
    "#3:12:29\n",
    "\n",
    "#inverse of a square tensor \n",
    "tensor3=tf.constant([\n",
    "    [1,-2,0],\n",
    "    [3,5,100],\n",
    "    [1,5,6]\n",
    "],dtype=tf.float32\n",
    ")\n",
    "\n",
    "print(f\"the shape of above tensor is {tensor3.shape}\")\n",
    "\n",
    "inverse_tensor3=tf.linalg.inv(tensor3)\n",
    "\n",
    "print(f\"the invese tensor for above is {inverse_tensor3}\")\n",
    "\n",
    "inverse_tensor3@tensor3"
   ]
  },
  {
   "cell_type": "code",
   "execution_count": 21,
   "metadata": {},
   "outputs": [
    {
     "name": "stdout",
     "output_type": "stream",
     "text": [
      "the output for svd of above tensor is : \n",
      "\n",
      "the value of s is \n",
      " : [33.67913    0.8466116]\n",
      "the value of u i s\n",
      " : [[-0.27428895 -0.96164733]\n",
      " [-0.96164733  0.27428895]]\n",
      "the value of v is \n",
      " : [[-0.13050126 -0.97581714]\n",
      " [-0.09380384 -0.16392463]\n",
      " [-0.9870007   0.14460188]]\n"
     ]
    }
   ],
   "source": [
    "#tf.svd function is used to get singular, left singular and right singular vector\n",
    "tensor_2d=tf.constant([\n",
    "        [2,1,9],\n",
    "        [4,3,32]\n",
    "    ], dtype=tf.float32)\n",
    "\n",
    "print(\"the output for svd of above tensor is : \\n\")\n",
    "\n",
    "s,u,v=tf.linalg.svd(tensor_2d)\n",
    "print(f\"the value of s is \\n : {s}\")\n",
    "print(f\"the value of u i s\\n : {u}\")\n",
    "print(f\"the value of v is \\n : {v}\")"
   ]
  },
  {
   "cell_type": "code",
   "execution_count": 24,
   "metadata": {},
   "outputs": [
    {
     "name": "stdout",
     "output_type": "stream",
     "text": [
      "the output of tf.stack([t1,t2] , axis=0) , \n",
      "\n",
      "the output of tf.stack([t1,t2,t1] , axis=0) is: \n",
      " \n"
     ]
    },
    {
     "data": {
      "text/plain": [
       "<tf.Tensor: shape=(3, 2, 3), dtype=int32, numpy=\n",
       "array([[[ 1,  2,  3],\n",
       "        [ 4,  5,  6]],\n",
       "\n",
       "       [[ 7,  8,  9],\n",
       "        [10, 11, 12]],\n",
       "\n",
       "       [[ 1,  2,  3],\n",
       "        [ 4,  5,  6]]])>"
      ]
     },
     "execution_count": 24,
     "metadata": {},
     "output_type": "execute_result"
    }
   ],
   "source": [
    "#3:12\n",
    "\n",
    "#tf.stack method\n",
    "t1=tf.constant([\n",
    "    [1,2,3],\n",
    "    [4,5,6]\n",
    "    ])\n",
    "t2=tf.constant([\n",
    "    [7,8,9],\n",
    "    [10,11,12]\n",
    "    ])\n",
    "\n",
    "#when we specify axis=0, we are stacking the tensor row wise i.e we will stack one tensor above other in row's direction\n",
    "print(\"the output of tf.stack([t1,t2] , axis=0) , \\n\")\n",
    "tf.stack([t1,t2],axis=0)\n",
    "\n",
    "#when we have more tensor, it will get stakced in the same way\n",
    "print(\"the output of tf.stack([t1,t2,t1] , axis=0) is: \\n \")\n",
    "tf.stack([t1,t2,t1] , axis=0)"
   ]
  },
  {
   "cell_type": "code",
   "execution_count": 31,
   "metadata": {},
   "outputs": [
    {
     "name": "stdout",
     "output_type": "stream",
     "text": [
      "the output for the padding fuction is : \n",
      "\n",
      "tf.Tensor(\n",
      "[[3 3 3 3 3 3 3]\n",
      " [3 3 1 2 3 3 3]\n",
      " [3 3 4 5 6 3 3]\n",
      " [3 3 3 3 3 3 3]], shape=(4, 7), dtype=int32)\n",
      "the output for the padding fuction is : \n",
      "\n"
     ]
    },
    {
     "data": {
      "text/plain": [
       "<tf.Tensor: shape=(4, 8), dtype=int32, numpy=\n",
       "array([[3, 3, 3, 3, 3, 3, 3, 3],\n",
       "       [3, 3, 1, 2, 3, 3, 3, 3],\n",
       "       [3, 3, 4, 5, 6, 3, 3, 3],\n",
       "       [3, 3, 3, 3, 3, 3, 3, 3]])>"
      ]
     },
     "execution_count": 31,
     "metadata": {},
     "output_type": "execute_result"
    }
   ],
   "source": [
    "#tf.pad- it is used to provide pading as a tensor for another tensor\n",
    "t=tf.constant([\n",
    "    [1,2,3],\n",
    "    [4,5,6]\n",
    "])\n",
    "\n",
    "padding=tf.constant([\n",
    "    [1,1],\n",
    "    [2,2]\n",
    "])\n",
    "\n",
    "padding2=tf.constant([\n",
    "    [1,1],\n",
    "    [2,3]\n",
    "])\n",
    "\n",
    "#by using below function we are able to pad the t tensor with a constant value of 3 around it\n",
    "print(\"the output for the padding fuction is : \\n\") \n",
    "print(tf.pad(t,padding,\"CONSTANT\",constant_values=3))\n",
    "\n",
    "#the interpretation for the number of padding on each side is defined using the padding tensor\n",
    "#in padding tensor it says 1,1 which means one row above and one row below tensor t, the second line says that \n",
    "#2,2 whcih signifies 2 collumns on left and two on right \n",
    "\n",
    "print(\"the output for the padding fuction is : \\n\") \n",
    "tf.pad(t,padding2,\"CONSTANT\",constant_values=3)\n",
    "\n",
    "\n"
   ]
  },
  {
   "cell_type": "code",
   "execution_count": 35,
   "metadata": {},
   "outputs": [
    {
     "name": "stdout",
     "output_type": "stream",
     "text": [
      "tf.Tensor([b'a1' b'a2' b'a3' b'a4'], shape=(4,), dtype=string)\n",
      "tf.Tensor([b'a1' b'a3' b'a5'], shape=(3,), dtype=string)\n"
     ]
    }
   ],
   "source": [
    "#to perform complex slicing we can use tf.geather function \n",
    "tensor1=tf.constant(['a0',\"a1\",\"a2\",\"a3\",\"a4\",\"a5\"])\n",
    "\n",
    "#to get the elenments from a1 to a4\n",
    "print(tf.gather(tensor1, [1,2,3,4]))\n",
    "\n",
    "#to get the elenmets a1 a3 and a5\n",
    "print(tf.gather(tensor1,[1,3,5]))"
   ]
  },
  {
   "cell_type": "code",
   "execution_count": null,
   "metadata": {},
   "outputs": [],
   "source": []
  }
 ],
 "metadata": {
  "kernelspec": {
   "display_name": "Python 3",
   "language": "python",
   "name": "python3"
  },
  "language_info": {
   "codemirror_mode": {
    "name": "ipython",
    "version": 3
   },
   "file_extension": ".py",
   "mimetype": "text/x-python",
   "name": "python",
   "nbconvert_exporter": "python",
   "pygments_lexer": "ipython3",
   "version": "3.10.6"
  }
 },
 "nbformat": 4,
 "nbformat_minor": 2
}
