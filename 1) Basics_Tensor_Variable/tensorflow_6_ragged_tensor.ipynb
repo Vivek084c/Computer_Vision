{
 "cells": [
  {
   "cell_type": "code",
   "execution_count": 1,
   "metadata": {},
   "outputs": [
    {
     "name": "stdout",
     "output_type": "stream",
     "text": [
      "WARNING:tensorflow:From c:\\Python 3.10\\lib\\site-packages\\keras\\src\\losses.py:2976: The name tf.losses.sparse_softmax_cross_entropy is deprecated. Please use tf.compat.v1.losses.sparse_softmax_cross_entropy instead.\n",
      "\n"
     ]
    }
   ],
   "source": [
    "import tensorflow as tf"
   ]
  },
  {
   "cell_type": "code",
   "execution_count": 2,
   "metadata": {},
   "outputs": [
    {
     "name": "stdout",
     "output_type": "stream",
     "text": [
      "the shape of the tensor is (4, 3)\n"
     ]
    }
   ],
   "source": [
    "tensor_2d=tf.constant([\n",
    "        [1,2,3],\n",
    "        [3,7,4],\n",
    "        [1,5,6],\n",
    "        [2,8,4]\n",
    "])\n",
    "\n",
    "print(f\"the shape of the tensor is {tensor_2d.shape}\")\n",
    "\n"
   ]
  },
  {
   "cell_type": "code",
   "execution_count": 6,
   "metadata": {},
   "outputs": [
    {
     "name": "stdout",
     "output_type": "stream",
     "text": [
      "the shape of tagged tensor is (4, None)\n"
     ]
    }
   ],
   "source": [
    "# tensor_2d=tf.constant([\n",
    "#         [1,2,],\n",
    "#         [3,7,4],\n",
    "#         [1,],\n",
    "#         [2,8,4]\n",
    "# ])\n",
    "\n",
    "#for above tensor, the tensor is not rectangular, this is a non acceptable condition when dealing with tensor\n",
    "#when we have non reactangular data set , we use ragged tensor\n",
    "tensor_2d_ragged=tf.ragged.constant([\n",
    "        [1,2,],\n",
    "        [3,7,4],\n",
    "        [1,],\n",
    "        [2,8,4]\n",
    "])\n",
    "print(f\"the shape of tagged tensor is {tensor_2d_ragged.shape}\")"
   ]
  },
  {
   "cell_type": "code",
   "execution_count": 16,
   "metadata": {},
   "outputs": [
    {
     "data": {
      "text/plain": [
       "[[1, 3], [], [7]]"
      ]
     },
     "execution_count": 16,
     "metadata": {},
     "output_type": "execute_result"
    }
   ],
   "source": [
    "#tf.ragged.boolean_mask -  used to drop the values as specified in the mask vector\n",
    "\n",
    "tensor=tf.ragged.boolean_mask([\n",
    "    [1,2,3],\n",
    "    [4,5,6],\n",
    "    [7,8,9]\n",
    "]\n",
    ",mask=[\n",
    "    [True,False,True],\n",
    "    [False,False,False],\n",
    "    [True,False,False]\n",
    "]).to_list()\n",
    "\n",
    "tensor\n",
    "\n"
   ]
  },
  {
   "cell_type": "code",
   "execution_count": 21,
   "metadata": {},
   "outputs": [
    {
     "name": "stdout",
     "output_type": "stream",
     "text": [
      "<tf.RaggedTensor [[3, 1, 4, 1], [], [5, 9], [2]]>\n"
     ]
    }
   ],
   "source": [
    "#tf.RaggedTensor- it is used to generate tensor by using a predefined tensor and a lenght tensor to define what lenght of data we will probe\n",
    "print(tf.RaggedTensor.from_row_lengths(\n",
    "    values=[3, 1, 4, 1, 5, 9, 2],\n",
    "    row_lengths=[4, 0, 2, 1]))"
   ]
  },
  {
   "cell_type": "code",
   "execution_count": 22,
   "metadata": {},
   "outputs": [
    {
     "name": "stdout",
     "output_type": "stream",
     "text": [
      "<tf.RaggedTensor [[3, 1, 4, 1], [], [5, 9], [2]]>\n"
     ]
    }
   ],
   "source": [
    "#tf.RaggedTensor.from_row_limits - used to geenrate tensor by using a row limit\n",
    "#it uses some sort of two pointer limit to build the tensor\n",
    "print(tf.RaggedTensor.from_row_splits(\n",
    "    values=[3, 1, 4, 1, 5, 9, 2],\n",
    "    row_splits=[0, 4, 4, 6, 7]))"
   ]
  },
  {
   "cell_type": "code",
   "execution_count": 26,
   "metadata": {},
   "outputs": [
    {
     "name": "stdout",
     "output_type": "stream",
     "text": [
      "SparseTensor(indices=tf.Tensor(\n",
      "[[1 1]\n",
      " [3 4]], shape=(2, 2), dtype=int64), values=tf.Tensor([25 53], shape=(2,), dtype=int32), dense_shape=tf.Tensor([5 6], shape=(2,), dtype=int64))\n"
     ]
    }
   ],
   "source": [
    "#to create a sparse tensor \n",
    "tensor_sparse=tf.sparse.SparseTensor(\n",
    "    indices=[[1,1],[3,4]], values=[25,53],dense_shape=[5,6]\n",
    ")\n",
    "\n",
    "print(tensor_sparse)"
   ]
  },
  {
   "cell_type": "code",
   "execution_count": 28,
   "metadata": {},
   "outputs": [
    {
     "data": {
      "text/plain": [
       "<tf.Tensor: shape=(5, 6), dtype=int32, numpy=\n",
       "array([[ 0,  0,  0,  0,  0,  0],\n",
       "       [ 0, 25,  0,  0,  0,  0],\n",
       "       [ 0,  0,  0,  0,  0,  0],\n",
       "       [ 0,  0,  0,  0, 53,  0],\n",
       "       [ 0,  0,  0,  0,  0,  0]])>"
      ]
     },
     "execution_count": 28,
     "metadata": {},
     "output_type": "execute_result"
    }
   ],
   "source": [
    "#below code gives a tensor  with fiiting the values 25 and 53 at specified location\n",
    "tf.sparse.to_dense(tensor_sparse)"
   ]
  },
  {
   "cell_type": "code",
   "execution_count": null,
   "metadata": {},
   "outputs": [],
   "source": []
  }
 ],
 "metadata": {
  "kernelspec": {
   "display_name": "Python 3",
   "language": "python",
   "name": "python3"
  },
  "language_info": {
   "codemirror_mode": {
    "name": "ipython",
    "version": 3
   },
   "file_extension": ".py",
   "mimetype": "text/x-python",
   "name": "python",
   "nbconvert_exporter": "python",
   "pygments_lexer": "ipython3",
   "version": "3.10.6"
  }
 },
 "nbformat": 4,
 "nbformat_minor": 2
}
