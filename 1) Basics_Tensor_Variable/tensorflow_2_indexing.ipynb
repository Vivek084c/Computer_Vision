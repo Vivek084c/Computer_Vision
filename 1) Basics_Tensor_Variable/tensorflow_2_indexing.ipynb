{
 "cells": [
  {
   "cell_type": "code",
   "execution_count": 1,
   "metadata": {},
   "outputs": [
    {
     "name": "stdout",
     "output_type": "stream",
     "text": [
      "WARNING:tensorflow:From c:\\Python 3.10\\lib\\site-packages\\keras\\src\\losses.py:2976: The name tf.losses.sparse_softmax_cross_entropy is deprecated. Please use tf.compat.v1.losses.sparse_softmax_cross_entropy instead.\n",
      "\n"
     ]
    }
   ],
   "source": [
    "#importing the libraries\n",
    "import tensorflow as tf"
   ]
  },
  {
   "cell_type": "code",
   "execution_count": 2,
   "metadata": {},
   "outputs": [
    {
     "name": "stdout",
     "output_type": "stream",
     "text": [
      "tf.Tensor([ 1  4  2  7  8 19], shape=(6,), dtype=int32)\n"
     ]
    }
   ],
   "source": [
    "index_tensor=tf.constant([1,4,2,7,8,19])\n",
    "print(index_tensor)"
   ]
  },
  {
   "cell_type": "code",
   "execution_count": 9,
   "metadata": {},
   "outputs": [
    {
     "name": "stdout",
     "output_type": "stream",
     "text": [
      "tf.Tensor([1 4 2 7], shape=(4,), dtype=int32)\n",
      "tf.Tensor([4 2 7], shape=(3,), dtype=int32)\n",
      "tf.Tensor([2 7], shape=(2,), dtype=int32)\n",
      "tf.Tensor([1 2 8], shape=(3,), dtype=int32)\n"
     ]
    }
   ],
   "source": [
    "#to get the first four elenment of above tensor\n",
    "print(index_tensor[0:4])\n",
    "print(index_tensor[1:4])\n",
    "print(index_tensor[2:4])\n",
    "#to get the alternate elenemnt from the tensor\n",
    "print(index_tensor[0:6:2])\n"
   ]
  },
  {
   "cell_type": "code",
   "execution_count": 10,
   "metadata": {},
   "outputs": [],
   "source": [
    "tensor_2d=tf.constant(\n",
    "    [\n",
    "        [1,2,3],\n",
    "        [4,5,6],\n",
    "        [7,8,9]\n",
    "    ]\n",
    ")"
   ]
  },
  {
   "cell_type": "code",
   "execution_count": 14,
   "metadata": {},
   "outputs": [
    {
     "name": "stdout",
     "output_type": "stream",
     "text": [
      "to get the first 3 row and first 2 columns [[1 2]\n",
      " [4 5]\n",
      " [7 8]]\n",
      "to get the first 2 rows and all the elenments [[1 2 3]\n",
      " [4 5 6]\n",
      " [7 8 9]]\n"
     ]
    }
   ],
   "source": [
    "#picking a paticular row in 2d tensor\n",
    "print(f\"to get the first 3 row and first 2 columns {tensor_2d[ 0:3,0:2 ]}\")\n",
    "print(f\"to get the first 2 rows and all the elenments {tensor_2d[ 0:3,: ]}\")\n"
   ]
  },
  {
   "cell_type": "code",
   "execution_count": 15,
   "metadata": {},
   "outputs": [],
   "source": [
    "tensor_3d=tf.constant(\n",
    "    [\n",
    "        [\n",
    "            [1,2,0],\n",
    "            [3,5,-1]\n",
    "        ],\n",
    "        [\n",
    "            [10,2,0],\n",
    "            [1,0,2]\n",
    "        ],\n",
    "        [\n",
    "            [2,1,9],\n",
    "            [4,-3,32]\n",
    "        ]\n",
    "    ]\n",
    ")\n",
    "\n"
   ]
  },
  {
   "cell_type": "code",
   "execution_count": 16,
   "metadata": {},
   "outputs": [
    {
     "name": "stdout",
     "output_type": "stream",
     "text": [
      "tf.Tensor(\n",
      "[[ 1  2  0]\n",
      " [ 3  5 -1]], shape=(2, 3), dtype=int32)\n"
     ]
    }
   ],
   "source": [
    "#to get the first 2 rows of 2*3 tensor\n",
    "print(tensor_3d[ 0,: ,: ])"
   ]
  },
  {
   "cell_type": "code",
   "execution_count": null,
   "metadata": {},
   "outputs": [],
   "source": [
    "    "
   ]
  }
 ],
 "metadata": {
  "kernelspec": {
   "display_name": "Python 3",
   "language": "python",
   "name": "python3"
  },
  "language_info": {
   "codemirror_mode": {
    "name": "ipython",
    "version": 3
   },
   "file_extension": ".py",
   "mimetype": "text/x-python",
   "name": "python",
   "nbconvert_exporter": "python",
   "pygments_lexer": "ipython3",
   "version": "3.10.6"
  }
 },
 "nbformat": 4,
 "nbformat_minor": 2
}
