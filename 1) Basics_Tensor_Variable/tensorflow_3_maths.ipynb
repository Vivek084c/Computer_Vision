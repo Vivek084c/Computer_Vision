{
 "cells": [
  {
   "cell_type": "code",
   "execution_count": 1,
   "metadata": {},
   "outputs": [
    {
     "name": "stdout",
     "output_type": "stream",
     "text": [
      "WARNING:tensorflow:From c:\\Python 3.10\\lib\\site-packages\\keras\\src\\losses.py:2976: The name tf.losses.sparse_softmax_cross_entropy is deprecated. Please use tf.compat.v1.losses.sparse_softmax_cross_entropy instead.\n",
      "\n"
     ]
    }
   ],
   "source": [
    "import tensorflow as tf"
   ]
  },
  {
   "cell_type": "code",
   "execution_count": 6,
   "metadata": {},
   "outputs": [
    {
     "name": "stdout",
     "output_type": "stream",
     "text": [
      "tf.Tensor([ 1  2  4  6 10], shape=(5,), dtype=int32)\n",
      "tf.Tensor([13.  5.], shape=(2,), dtype=float64)\n"
     ]
    }
   ],
   "source": [
    "#tf.maths.abs - used to get the absolute value in tensor\n",
    "tensor=tf.constant([1,2,-4,-6,10])\n",
    "print(tf.math.abs(tensor))\n",
    "#if we have conplex number then the absolute value becomes the root over a square + b square\n",
    "complex_tensor=tf.constant([12+5j,3+4j])\n",
    "print((tf.math.abs(complex_tensor)))"
   ]
  },
  {
   "cell_type": "code",
   "execution_count": 10,
   "metadata": {},
   "outputs": [
    {
     "name": "stdout",
     "output_type": "stream",
     "text": [
      "tf.Tensor([7 7 7 7 7 7], shape=(6,), dtype=int32)\n",
      "tf.Tensor([-5 -3 -1  1  3  5], shape=(6,), dtype=int32)\n",
      "tf.Tensor([0.16666667 0.4        0.75       1.33333333 2.5        6.        ], shape=(6,), dtype=float64)\n"
     ]
    }
   ],
   "source": [
    "#tf.add is  used to add two tensor, if they are having dimensionality compablity\n",
    "tensor1=tf.constant([1,2,3,4,5,6])\n",
    "tensor2=tf.constant([6,5,4,3,2,1])\n",
    "print(tf.add(tensor1,tensor2))\n",
    "\n",
    "#tf.subtract is used to subtract two tensors\n",
    "print(tf.subtract(tensor1,tensor2))\n",
    "\n",
    "#tf.divide is used to divide two tensor\n",
    "print(tf.divide(tensor1,tensor2))\n",
    "\n",
    "#tf"
   ]
  },
  {
   "cell_type": "code",
   "execution_count": null,
   "metadata": {},
   "outputs": [],
   "source": []
  }
 ],
 "metadata": {
  "kernelspec": {
   "display_name": "Python 3",
   "language": "python",
   "name": "python3"
  },
  "language_info": {
   "codemirror_mode": {
    "name": "ipython",
    "version": 3
   },
   "file_extension": ".py",
   "mimetype": "text/x-python",
   "name": "python",
   "nbconvert_exporter": "python",
   "pygments_lexer": "ipython3",
   "version": "3.10.6"
  }
 },
 "nbformat": 4,
 "nbformat_minor": 2
}
