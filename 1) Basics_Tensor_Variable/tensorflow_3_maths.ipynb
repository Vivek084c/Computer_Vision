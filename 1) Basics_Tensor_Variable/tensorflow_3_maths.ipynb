{
 "cells": [
  {
   "cell_type": "code",
   "execution_count": 2,
   "metadata": {},
   "outputs": [
    {
     "name": "stdout",
     "output_type": "stream",
     "text": [
      "WARNING:tensorflow:From c:\\Python 3.10\\lib\\site-packages\\keras\\src\\losses.py:2976: The name tf.losses.sparse_softmax_cross_entropy is deprecated. Please use tf.compat.v1.losses.sparse_softmax_cross_entropy instead.\n",
      "\n"
     ]
    }
   ],
   "source": [
    "import tensorflow as tf"
   ]
  },
  {
   "cell_type": "code",
   "execution_count": 3,
   "metadata": {},
   "outputs": [
    {
     "name": "stdout",
     "output_type": "stream",
     "text": [
      "tf.Tensor([ 1  2  4  6 10], shape=(5,), dtype=int32)\n",
      "tf.Tensor([13.  5.], shape=(2,), dtype=float64)\n"
     ]
    }
   ],
   "source": [
    "#tf.maths.abs - used to get the absolute value in tensor\n",
    "tensor=tf.constant([1,2,-4,-6,10])\n",
    "print(tf.math.abs(tensor))\n",
    "#if we have conplex number then the absolute value becomes the root over a square + b square\n",
    "complex_tensor=tf.constant([12+5j,3+4j])\n",
    "print((tf.math.abs(complex_tensor)))"
   ]
  },
  {
   "cell_type": "code",
   "execution_count": 6,
   "metadata": {},
   "outputs": [
    {
     "name": "stdout",
     "output_type": "stream",
     "text": [
      "tf.Tensor([7 7 7 7 7 7], shape=(6,), dtype=int32)\n",
      "tf.Tensor([-5 -3 -1  1  3  5], shape=(6,), dtype=int32)\n",
      "tf.Tensor([0.16666667 0.4        0.75       1.33333333 2.5        6.        ], shape=(6,), dtype=float64)\n",
      "the multiplied output of the tensor is [4 6 6 4]\n"
     ]
    }
   ],
   "source": [
    "#tf.add is  used to add two tensor, if they are having dimensionality compablity\n",
    "tensor1=tf.constant([1,2,3,4,5,6])\n",
    "tensor2=tf.constant([6,5,4,3,2,1])\n",
    "print(tf.add(tensor1,tensor2))\n",
    "\n",
    "#tf.subtract is used to subtract two tensors\n",
    "print(tf.subtract(tensor1,tensor2))\n",
    "\n",
    "#tf.divide is used to divide two tensor\n",
    "print(tf.divide(tensor1,tensor2))\n",
    "\n",
    "#tensor multiplication\n",
    "tf1=tf.constant([1,2,3,4])\n",
    "tf2=tf.constant([4,3,2,1])\n",
    "print(f\"the multiplied output of the tensor is {tf.multiply(tf1,tf2)}\")"
   ]
  },
  {
   "cell_type": "code",
   "execution_count": 13,
   "metadata": {},
   "outputs": [
    {
     "name": "stdout",
     "output_type": "stream",
     "text": [
      "the shape of the tensor is (3, 5)\n",
      "the index of max value is (<tf.Tensor: shape=(5,), dtype=int64, numpy=array([2, 2, 0, 2, 2], dtype=int64)>, 0)\n"
     ]
    }
   ],
   "source": [
    "# tf.math.argmax - returns the index of the elenment witht the highest values\n",
    "tensor=tf.constant([\n",
    "    [2,20,30,3,6],\n",
    "    [3,11,16,1,8],\n",
    "    [14,45,23,5,27]\n",
    "]\n",
    ")\n",
    "print(f\"the shape of the tensor is {tensor.shape}\")\n",
    "print(f\"the index of max value is {tf.math.argmax(tensor),0}\")\n",
    "#by passing 0 above we are finxing the axis here, row in this case, and then we compare each elenment in a paticular column\n",
    "# as an output we get a tensor which has the index of each index corrsoponding to the highest value in the column\n"
   ]
  },
  {
   "cell_type": "code",
   "execution_count": 14,
   "metadata": {},
   "outputs": [
    {
     "name": "stdout",
     "output_type": "stream",
     "text": [
      "the output of tf.math.equal is as follow [False False False False False False]\n"
     ]
    }
   ],
   "source": [
    "#tf.math.equal is used to compare two tensor and give another tensor as output based on comparision\n",
    "tensor1=tf.constant([1,2,3,4,5,6])\n",
    "tensor2=tf.constant([6,5,4,3,2,1])\n",
    "print(f\"the output of tf.math.equal is as follow {tf.math.equal(tensor1,tensor2)}\")"
   ]
  },
  {
   "cell_type": "code",
   "execution_count": 17,
   "metadata": {},
   "outputs": [
    {
     "name": "stdout",
     "output_type": "stream",
     "text": [
      "the output of the pow function is \n",
      " [[   1    4    3]\n",
      " [4096 3125 1296]]\n"
     ]
    }
   ],
   "source": [
    "#tf.math.pow is used to raise the values of one tensor with respect to the values provided in the another tensor\n",
    "ten1=tf.constant([\n",
    "    [1,2,3],\n",
    "    [4,5,6]\n",
    "])\n",
    "ten2=tf.constant([\n",
    "    [3,2,1],\n",
    "    [6,5,4]\n",
    "])\n",
    "print(f\"the output of the pow function is \\n {tf.math.pow(ten1,ten2)}\")"
   ]
  },
  {
   "cell_type": "code",
   "execution_count": 26,
   "metadata": {},
   "outputs": [
    {
     "name": "stdout",
     "output_type": "stream",
     "text": [
      "the shape of aboev tensor is (3, 5)\n",
      "the output of tf.math.reduce_sum is as follow \n",
      " [19 76 69  9 41]\n"
     ]
    }
   ],
   "source": [
    "#tf.maht.reduce_sum - it is used to compute the sum of elenment along a paticular axis\n",
    "tensor=tf.constant([\n",
    "    [2,20,30,3,6],\n",
    "    [3,11,16,1,8],\n",
    "    [14,45,23,5,27]\n",
    "])\n",
    "print(f'the shape of aboev tensor is {tensor.shape}')\n",
    "print(f\"the output of tf.math.reduce_sum is as follow \\n {tf.math.reduce_sum(tensor,axis=0, keepdims=False, name=None)}\")"
   ]
  },
  {
   "cell_type": "code",
   "execution_count": 27,
   "metadata": {},
   "outputs": [
    {
     "name": "stdout",
     "output_type": "stream",
     "text": [
      "TopKV2(values=<tf.Tensor: shape=(3, 1), dtype=int32, numpy=\n",
      "array([[30],\n",
      "       [16],\n",
      "       [45]])>, indices=<tf.Tensor: shape=(3, 1), dtype=int32, numpy=\n",
      "array([[2],\n",
      "       [2],\n",
      "       [1]])>)\n"
     ]
    }
   ],
   "source": [
    "#tf.math.top_k - it is used get top k elenments for a input tensor\n",
    "print(tf.math.top_k(tensor))"
   ]
  },
  {
   "cell_type": "code",
   "execution_count": null,
   "metadata": {},
   "outputs": [],
   "source": []
  }
 ],
 "metadata": {
  "kernelspec": {
   "display_name": "Python 3",
   "language": "python",
   "name": "python3"
  },
  "language_info": {
   "codemirror_mode": {
    "name": "ipython",
    "version": 3
   },
   "file_extension": ".py",
   "mimetype": "text/x-python",
   "name": "python",
   "nbconvert_exporter": "python",
   "pygments_lexer": "ipython3",
   "version": "3.10.6"
  }
 },
 "nbformat": 4,
 "nbformat_minor": 2
}
